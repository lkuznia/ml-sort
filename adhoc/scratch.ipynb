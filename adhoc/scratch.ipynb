{
 "cells": [
  {
   "cell_type": "markdown",
   "metadata": {},
   "source": [
    "### This is the beginning of a beautiful thing."
   ]
  },
  {
   "cell_type": "code",
   "execution_count": null,
   "metadata": {},
   "outputs": [],
   "source": [
    "import pandas as pd\n",
    "import tensorflow as tf\n",
    "import itertools as it\n",
    "import numpy as np"
   ]
  },
  {
   "cell_type": "code",
   "execution_count": 24,
   "metadata": {},
   "outputs": [
    {
     "name": "stdout",
     "output_type": "stream",
     "text": [
      "[3 6 7]\n",
      "   0  1  2\n",
      "0  3  6  7\n"
     ]
    }
   ],
   "source": [
    "sample = np.random.choice(10, 3)\n",
    "print(sample)\n",
    "\n",
    "df = pd.DataFrame(sample.reshape(1,-1))\n",
    "print(df)"
   ]
  },
  {
   "cell_type": "code",
   "execution_count": 34,
   "metadata": {},
   "outputs": [
    {
     "data": {
      "text/html": [
       "<div>\n",
       "<style scoped>\n",
       "    .dataframe tbody tr th:only-of-type {\n",
       "        vertical-align: middle;\n",
       "    }\n",
       "\n",
       "    .dataframe tbody tr th {\n",
       "        vertical-align: top;\n",
       "    }\n",
       "\n",
       "    .dataframe thead th {\n",
       "        text-align: right;\n",
       "    }\n",
       "</style>\n",
       "<table border=\"1\" class=\"dataframe\">\n",
       "  <thead>\n",
       "    <tr style=\"text-align: right;\">\n",
       "      <th></th>\n",
       "      <th>x_1</th>\n",
       "      <th>x_2</th>\n",
       "      <th>x_3</th>\n",
       "      <th>x_4</th>\n",
       "      <th>x_5</th>\n",
       "      <th>x_6</th>\n",
       "      <th>x_7</th>\n",
       "      <th>x_8</th>\n",
       "      <th>x_9</th>\n",
       "      <th>x_10</th>\n",
       "    </tr>\n",
       "  </thead>\n",
       "  <tbody>\n",
       "    <tr>\n",
       "      <th>0</th>\n",
       "      <td>621</td>\n",
       "      <td>633</td>\n",
       "      <td>423</td>\n",
       "      <td>678</td>\n",
       "      <td>298</td>\n",
       "      <td>933</td>\n",
       "      <td>718</td>\n",
       "      <td>482</td>\n",
       "      <td>879</td>\n",
       "      <td>220</td>\n",
       "    </tr>\n",
       "    <tr>\n",
       "      <th>1</th>\n",
       "      <td>673</td>\n",
       "      <td>130</td>\n",
       "      <td>151</td>\n",
       "      <td>872</td>\n",
       "      <td>597</td>\n",
       "      <td>157</td>\n",
       "      <td>868</td>\n",
       "      <td>471</td>\n",
       "      <td>586</td>\n",
       "      <td>914</td>\n",
       "    </tr>\n",
       "    <tr>\n",
       "      <th>2</th>\n",
       "      <td>209</td>\n",
       "      <td>662</td>\n",
       "      <td>232</td>\n",
       "      <td>166</td>\n",
       "      <td>560</td>\n",
       "      <td>21</td>\n",
       "      <td>427</td>\n",
       "      <td>375</td>\n",
       "      <td>727</td>\n",
       "      <td>344</td>\n",
       "    </tr>\n",
       "    <tr>\n",
       "      <th>3</th>\n",
       "      <td>426</td>\n",
       "      <td>939</td>\n",
       "      <td>196</td>\n",
       "      <td>586</td>\n",
       "      <td>499</td>\n",
       "      <td>726</td>\n",
       "      <td>316</td>\n",
       "      <td>929</td>\n",
       "      <td>963</td>\n",
       "      <td>195</td>\n",
       "    </tr>\n",
       "    <tr>\n",
       "      <th>4</th>\n",
       "      <td>534</td>\n",
       "      <td>652</td>\n",
       "      <td>281</td>\n",
       "      <td>963</td>\n",
       "      <td>870</td>\n",
       "      <td>518</td>\n",
       "      <td>215</td>\n",
       "      <td>548</td>\n",
       "      <td>536</td>\n",
       "      <td>299</td>\n",
       "    </tr>\n",
       "  </tbody>\n",
       "</table>\n",
       "</div>"
      ],
      "text/plain": [
       "   x_1  x_2  x_3  x_4  x_5  x_6  x_7  x_8  x_9  x_10\n",
       "0  621  633  423  678  298  933  718  482  879   220\n",
       "1  673  130  151  872  597  157  868  471  586   914\n",
       "2  209  662  232  166  560   21  427  375  727   344\n",
       "3  426  939  196  586  499  726  316  929  963   195\n",
       "4  534  652  281  963  870  518  215  548  536   299"
      ]
     },
     "execution_count": 34,
     "metadata": {},
     "output_type": "execute_result"
    }
   ],
   "source": [
    "VECT_LEN = 10\n",
    "MAX_VAL = 1000\n",
    "NB_OBS = 100\n",
    "\n",
    "input_x = pd.DataFrame(np.random.choice(MAX_VAL, [NB_OBS, VECT_LEN]), columns=('x_'+str(i+1) for i in range(VECT_LEN)))\n",
    "input_x.head()"
   ]
  }
 ],
 "metadata": {
  "kernelspec": {
   "display_name": "Python 3",
   "language": "python",
   "name": "python3"
  },
  "language_info": {
   "codemirror_mode": {
    "name": "ipython",
    "version": 3
   },
   "file_extension": ".py",
   "mimetype": "text/x-python",
   "name": "python",
   "nbconvert_exporter": "python",
   "pygments_lexer": "ipython3",
   "version": "3.5.2"
  }
 },
 "nbformat": 4,
 "nbformat_minor": 2
}
