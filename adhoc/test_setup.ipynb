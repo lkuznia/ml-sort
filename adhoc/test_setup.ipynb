{
 "cells": [
  {
   "cell_type": "code",
   "execution_count": 1,
   "metadata": {},
   "outputs": [],
   "source": [
    "import tensorflow as tf\n",
    "import numpy as np\n",
    "import os\n",
    "\n",
    "%matplotlib inline\n",
    "import matplotlib\n",
    "import matplotlib.pyplot as plt\n",
    "plt.rcParams['axes.labelsize'] = 14\n",
    "plt.rcParams['xtick.labelsize'] = 12\n",
    "plt.rcParams['ytick.labelsize'] = 12"
   ]
  },
  {
   "cell_type": "code",
   "execution_count": 19,
   "metadata": {},
   "outputs": [],
   "source": [
    "import sys\n",
    "sys.path.append(os.path.join(os.path.abspath(os.path.join(os.getcwd(), os.pardir)),'src'))"
   ]
  },
  {
   "cell_type": "code",
   "execution_count": 27,
   "metadata": {},
   "outputs": [],
   "source": [
    "import DataGenerator as dg"
   ]
  },
  {
   "cell_type": "code",
   "execution_count": 26,
   "metadata": {},
   "outputs": [
    {
     "data": {
      "text/plain": [
       "['',\n",
       " 'c:\\\\users\\\\louie\\\\documents\\\\python_venvs\\\\mlsort-venv\\\\scripts\\\\python35.zip',\n",
       " 'c:\\\\users\\\\louie\\\\documents\\\\python_venvs\\\\mlsort-venv\\\\DLLs',\n",
       " 'c:\\\\users\\\\louie\\\\documents\\\\python_venvs\\\\mlsort-venv\\\\lib',\n",
       " 'c:\\\\users\\\\louie\\\\documents\\\\python_venvs\\\\mlsort-venv\\\\scripts',\n",
       " 'c:\\\\users\\\\louie\\\\appdata\\\\local\\\\programs\\\\python\\\\python35\\\\Lib',\n",
       " 'c:\\\\users\\\\louie\\\\appdata\\\\local\\\\programs\\\\python\\\\python35\\\\DLLs',\n",
       " 'c:\\\\users\\\\louie\\\\documents\\\\python_venvs\\\\mlsort-venv',\n",
       " 'c:\\\\users\\\\louie\\\\documents\\\\python_venvs\\\\mlsort-venv\\\\lib\\\\site-packages',\n",
       " 'c:\\\\users\\\\louie\\\\documents\\\\python_venvs\\\\mlsort-venv\\\\lib\\\\site-packages\\\\IPython\\\\extensions',\n",
       " 'C:\\\\Users\\\\Louie\\\\.ipython',\n",
       " 'C:\\\\Users\\\\Louie\\\\Documents\\\\ml-sort\\\\src']"
      ]
     },
     "execution_count": 26,
     "metadata": {},
     "output_type": "execute_result"
    }
   ],
   "source": []
  },
  {
   "cell_type": "code",
   "execution_count": 25,
   "metadata": {},
   "outputs": [],
   "source": []
  },
  {
   "cell_type": "code",
   "execution_count": null,
   "metadata": {},
   "outputs": [],
   "source": []
  }
 ],
 "metadata": {
  "kernelspec": {
   "display_name": "Python 3",
   "language": "python",
   "name": "python3"
  },
  "language_info": {
   "codemirror_mode": {
    "name": "ipython",
    "version": 3
   },
   "file_extension": ".py",
   "mimetype": "text/x-python",
   "name": "python",
   "nbconvert_exporter": "python",
   "pygments_lexer": "ipython3",
   "version": "3.5.2"
  }
 },
 "nbformat": 4,
 "nbformat_minor": 2
}
