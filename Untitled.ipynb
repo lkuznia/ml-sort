{
 "cells": [
  {
   "cell_type": "code",
   "execution_count": 1,
   "metadata": {},
   "outputs": [],
   "source": [
    "import numpy as np\n",
    "import matplotlib.pyplot as plt"
   ]
  },
  {
   "cell_type": "code",
   "execution_count": 38,
   "metadata": {},
   "outputs": [],
   "source": [
    "\n",
    "N = 5\n",
    "menMeans = {'data':(20, 35, 30, 35, 27), 'label':'Men'}\n",
    "womenMeans = {'data':(25, 32, 34, 20, 25), 'label':'Women'}\n",
    "testMeans = {'data':(30, 30, 30, 30, 30), 'label':'Test'}\n",
    "all_info = [menMeans, womenMeans, testMeans]\n",
    "menStd = (2, 3, 4, 1, 2)\n",
    "womenStd = (3, 5, 2, 3, 3)\n",
    "ind = ['Label_{}'.format(i) for i in np.arange(N)]    # the x locations for the groups\n",
    "width = 0.35       # the width of the bars: can also be len(x) sequence\n"
   ]
  },
  {
   "cell_type": "code",
   "execution_count": 40,
   "metadata": {},
   "outputs": [
    {
     "data": {
      "image/png": "[encoded data removed]",
      "text/plain": [
       "<matplotlib.figure.Figure at 0x22dfd7258d0>"
      ]
     },
     "metadata": {},
     "output_type": "display_data"
    }
   ],
   "source": [
    "groups = [menMeans['data'], womenMeans['data'], testMeans['data']]\n",
    "#p1 = plt.bar(ind, menMeans, width) #, yerr=menStd)\n",
    "#p2 = plt.bar(ind, womenMeans, width, bottom=menMeans) #, yerr=womenStd)\n",
    "\n",
    "p = []\n",
    "bottom = [0 for _ in ind]\n",
    "for i, grp in enumerate(groups):\n",
    "    p.append(plt.bar(ind, grp, width, bottom=bottom))\n",
    "    bottom = [sum(x) for x in zip(bottom, grp)]\n",
    "\n",
    "plt.ylabel('Scores')\n",
    "plt.title('Scores by group and gender')\n",
    "# plt.xticks(ind, ('G1', 'G2', 'G3', 'G4', 'G5'))\n",
    "plt.xticks(rotation='vertical')\n",
    "#plt.yticks(np.arange(0, 81, 10))\n",
    "\n",
    "values = []\n",
    "labels = []\n",
    "for i, item in enumerate(all_info):\n",
    "    values.append(p[i][0])\n",
    "    labels.append(item['label'])\n",
    "plt.legend(values, labels)\n",
    "\n",
    "plt.show()"
   ]
  },
  {
   "cell_type": "code",
   "execution_count": 5,
   "metadata": {},
   "outputs": [
    {
     "name": "stdout",
     "output_type": "stream",
     "text": [
      "[0 1 2 3 4]\n"
     ]
    }
   ],
   "source": [
    "print(ind)"
   ]
  },
  {
   "cell_type": "code",
   "execution_count": 6,
   "metadata": {},
   "outputs": [
    {
     "data": {
      "text/plain": [
       "(20, 35, 30, 35, 27)"
      ]
     },
     "execution_count": 6,
     "metadata": {},
     "output_type": "execute_result"
    }
   ],
   "source": [
    "menMeans"
   ]
  },
  {
   "cell_type": "code",
   "execution_count": 19,
   "metadata": {},
   "outputs": [
    {
     "data": {
      "image/png": "[encoded data removed]",
      "text/plain": [
       "<matplotlib.figure.Figure at 0x22dfd6a3f98>"
      ]
     },
     "metadata": {},
     "output_type": "display_data"
    }
   ],
   "source": [
    "groups = [menMeans, womenMeans]\n",
    "p1 = plt.bar(ind, menMeans, width) #, yerr=menStd)\n",
    "p2 = plt.bar(ind, womenMeans, width, bottom=menMeans) #, yerr=womenStd)\n",
    "\n",
    "plt.ylabel('Scores')\n",
    "plt.title('Scores by group and gender')\n",
    "# plt.xticks(ind, ('G1', 'G2', 'G3', 'G4', 'G5'))\n",
    "plt.xticks(rotation='vertical')\n",
    "plt.yticks(np.arange(0, 81, 10))\n",
    "plt.legend((p1[0], p2[0]), ('Men', 'Women'))\n",
    "\n",
    "plt.show()"
   ]
  },
  {
   "cell_type": "code",
   "execution_count": 20,
   "metadata": {},
   "outputs": [
    {
     "data": {
      "text/plain": [
       "<matplotlib.patches.Rectangle at 0x22dfd636470>"
      ]
     },
     "execution_count": 20,
     "metadata": {},
     "output_type": "execute_result"
    }
   ],
   "source": [
    "p1[0]"
   ]
  },
  {
   "cell_type": "code",
   "execution_count": 21,
   "metadata": {},
   "outputs": [
    {
     "data": {
      "text/plain": [
       "<matplotlib.patches.Rectangle at 0x22dfd69e668>"
      ]
     },
     "execution_count": 21,
     "metadata": {},
     "output_type": "execute_result"
    }
   ],
   "source": [
    "p[0][0]"
   ]
  },
  {
   "cell_type": "code",
   "execution_count": null,
   "metadata": {},
   "outputs": [],
   "source": []
  }
 ],
 "metadata": {
  "kernelspec": {
   "display_name": "Python 3",
   "language": "python",
   "name": "python3"
  },
  "language_info": {
   "codemirror_mode": {
    "name": "ipython",
    "version": 3
   },
   "file_extension": ".py",
   "mimetype": "text/x-python",
   "name": "python",
   "nbconvert_exporter": "python",
   "pygments_lexer": "ipython3",
   "version": "3.5.2"
  }
 },
 "nbformat": 4,
 "nbformat_minor": 2
}
